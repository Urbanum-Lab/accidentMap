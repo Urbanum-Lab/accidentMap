{
 "cells": [
  {
   "attachments": {},
   "cell_type": "markdown",
   "metadata": {},
   "source": [
    "# Testing KeplerGL\n",
    "jhgqwedgqhjewghghjrgfhjgerhjfg32rhjgfhj23rgfjh234grjhrfgf234jhg"
   ]
  },
  {
   "cell_type": "code",
   "execution_count": 3,
   "metadata": {},
   "outputs": [
    {
     "data": {
      "text/html": [
       "<div>\n",
       "<style scoped>\n",
       "    .dataframe tbody tr th:only-of-type {\n",
       "        vertical-align: middle;\n",
       "    }\n",
       "\n",
       "    .dataframe tbody tr th {\n",
       "        vertical-align: top;\n",
       "    }\n",
       "\n",
       "    .dataframe thead th {\n",
       "        text-align: right;\n",
       "    }\n",
       "</style>\n",
       "<table border=\"1\" class=\"dataframe\">\n",
       "  <thead>\n",
       "    <tr style=\"text-align: right;\">\n",
       "      <th></th>\n",
       "      <th>Dátum</th>\n",
       "      <th>Év</th>\n",
       "      <th>Város</th>\n",
       "      <th>Kimenetel</th>\n",
       "      <th>Baleset típus</th>\n",
       "      <th>Ok-csoport</th>\n",
       "      <th>Ok</th>\n",
       "      <th>LAT</th>\n",
       "      <th>LON</th>\n",
       "      <th>Meghaltak</th>\n",
       "      <th>Súlyos</th>\n",
       "      <th>Könnyű</th>\n",
       "      <th>Résztvevők száma</th>\n",
       "      <th>Baleset típus főcsoport</th>\n",
       "      <th>street</th>\n",
       "    </tr>\n",
       "  </thead>\n",
       "  <tbody>\n",
       "    <tr>\n",
       "      <th>0</th>\n",
       "      <td>2012-01-01</td>\n",
       "      <td>2012</td>\n",
       "      <td>Budapest VIII. kerület</td>\n",
       "      <td>könnyű sérüléses</td>\n",
       "      <td>Egyéb, azonos irányba haladó kanyarodó járműve...</td>\n",
       "      <td>irányváltoztatási, haladási, bekanyarodási hiba</td>\n",
       "      <td>követés távolság be nem tartása</td>\n",
       "      <td>47.495686</td>\n",
       "      <td>19.084272</td>\n",
       "      <td>0</td>\n",
       "      <td>0</td>\n",
       "      <td>1</td>\n",
       "      <td>2</td>\n",
       "      <td>gyalogos</td>\n",
       "      <td>Fiumei út</td>\n",
       "    </tr>\n",
       "    <tr>\n",
       "      <th>1</th>\n",
       "      <td>2012-01-03</td>\n",
       "      <td>2012</td>\n",
       "      <td>Budapest VIII. kerület</td>\n",
       "      <td>könnyű sérüléses</td>\n",
       "      <td>Egyéb közlekedési baleset gyalogossal</td>\n",
       "      <td>gyalogosok hibája</td>\n",
       "      <td>egyéb</td>\n",
       "      <td>47.496244</td>\n",
       "      <td>19.070433</td>\n",
       "      <td>0</td>\n",
       "      <td>0</td>\n",
       "      <td>1</td>\n",
       "      <td>2</td>\n",
       "      <td>gyalogos</td>\n",
       "      <td>0809 - Blaha Lujza tér M (2062) Blaha Lujza tér</td>\n",
       "    </tr>\n",
       "    <tr>\n",
       "      <th>2</th>\n",
       "      <td>2012-01-04</td>\n",
       "      <td>2012</td>\n",
       "      <td>Budapest VIII. kerület</td>\n",
       "      <td>könnyű sérüléses</td>\n",
       "      <td>Gyalogos elütése útkereszteződésben kijelölt g...</td>\n",
       "      <td>gyalogosok hibája</td>\n",
       "      <td>tilos jelzésen való áthaladás</td>\n",
       "      <td>47.492742</td>\n",
       "      <td>19.071008</td>\n",
       "      <td>0</td>\n",
       "      <td>0</td>\n",
       "      <td>1</td>\n",
       "      <td>2</td>\n",
       "      <td>gyalogos</td>\n",
       "      <td>Rákóczi tér M József körút</td>\n",
       "    </tr>\n",
       "    <tr>\n",
       "      <th>3</th>\n",
       "      <td>2012-01-06</td>\n",
       "      <td>2012</td>\n",
       "      <td>Budapest VIII. kerület</td>\n",
       "      <td>könnyű sérüléses</td>\n",
       "      <td>Gyalogos elütése útkereszteződésben nem kijelö...</td>\n",
       "      <td>elsőbbség meg nem adása</td>\n",
       "      <td>a gyalogosnak kanyarodáskor</td>\n",
       "      <td>47.487844</td>\n",
       "      <td>19.076394</td>\n",
       "      <td>0</td>\n",
       "      <td>0</td>\n",
       "      <td>1</td>\n",
       "      <td>1</td>\n",
       "      <td>gyalogos</td>\n",
       "      <td>Nap utca</td>\n",
       "    </tr>\n",
       "    <tr>\n",
       "      <th>4</th>\n",
       "      <td>2012-01-15</td>\n",
       "      <td>2012</td>\n",
       "      <td>Budapest VIII. kerület</td>\n",
       "      <td>könnyű sérüléses</td>\n",
       "      <td>Gyalogos elütése útkereszteződésben kijelölt g...</td>\n",
       "      <td>gyalogosok hibája</td>\n",
       "      <td>tilos jelzésen való áthaladás</td>\n",
       "      <td>47.489556</td>\n",
       "      <td>19.070525</td>\n",
       "      <td>0</td>\n",
       "      <td>0</td>\n",
       "      <td>1</td>\n",
       "      <td>2</td>\n",
       "      <td>gyalogos</td>\n",
       "      <td>Harminckettesek tere József körút</td>\n",
       "    </tr>\n",
       "  </tbody>\n",
       "</table>\n",
       "</div>"
      ],
      "text/plain": [
       "        Dátum    Év                   Város         Kimenetel   \n",
       "0  2012-01-01  2012  Budapest VIII. kerület  könnyű sérüléses  \\\n",
       "1  2012-01-03  2012  Budapest VIII. kerület  könnyű sérüléses   \n",
       "2  2012-01-04  2012  Budapest VIII. kerület  könnyű sérüléses   \n",
       "3  2012-01-06  2012  Budapest VIII. kerület  könnyű sérüléses   \n",
       "4  2012-01-15  2012  Budapest VIII. kerület  könnyű sérüléses   \n",
       "\n",
       "                                       Baleset típus   \n",
       "0  Egyéb, azonos irányba haladó kanyarodó járműve...  \\\n",
       "1              Egyéb közlekedési baleset gyalogossal   \n",
       "2  Gyalogos elütése útkereszteződésben kijelölt g...   \n",
       "3  Gyalogos elütése útkereszteződésben nem kijelö...   \n",
       "4  Gyalogos elütése útkereszteződésben kijelölt g...   \n",
       "\n",
       "                                        Ok-csoport   \n",
       "0  irányváltoztatási, haladási, bekanyarodási hiba  \\\n",
       "1                                gyalogosok hibája   \n",
       "2                                gyalogosok hibája   \n",
       "3                          elsőbbség meg nem adása   \n",
       "4                                gyalogosok hibája   \n",
       "\n",
       "                                Ok        LAT        LON  Meghaltak  Súlyos   \n",
       "0  követés távolság be nem tartása  47.495686  19.084272          0       0  \\\n",
       "1                            egyéb  47.496244  19.070433          0       0   \n",
       "2    tilos jelzésen való áthaladás  47.492742  19.071008          0       0   \n",
       "3      a gyalogosnak kanyarodáskor  47.487844  19.076394          0       0   \n",
       "4    tilos jelzésen való áthaladás  47.489556  19.070525          0       0   \n",
       "\n",
       "   Könnyű  Résztvevők száma Baleset típus főcsoport   \n",
       "0       1                 2                gyalogos  \\\n",
       "1       1                 2                gyalogos   \n",
       "2       1                 2                gyalogos   \n",
       "3       1                 1                gyalogos   \n",
       "4       1                 2                gyalogos   \n",
       "\n",
       "                                            street  \n",
       "0                                        Fiumei út  \n",
       "1  0809 - Blaha Lujza tér M (2062) Blaha Lujza tér  \n",
       "2                       Rákóczi tér M József körút  \n",
       "3                                         Nap utca  \n",
       "4                Harminckettesek tere József körút  "
      ]
     },
     "execution_count": 3,
     "metadata": {},
     "output_type": "execute_result"
    }
   ],
   "source": [
    "import pandas as pd\n",
    "df = pd.read_csv(\"../data/interim/balesetek_point.csv\")\n",
    "df.drop(columns=[\"geometry\"], inplace=True)\n",
    "df.fillna(\"\", inplace=True)\n",
    "df.head()"
   ]
  },
  {
   "cell_type": "code",
   "execution_count": 4,
   "metadata": {},
   "outputs": [],
   "source": [
    "config = {\n",
    "  \"version\": \"v1\",\n",
    "  \"config\": {\n",
    "    \"visState\": {\n",
    "      \"filters\": [],\n",
    "      \"layers\": [],\n",
    "      \"interactionConfig\": {}\n",
    "    },\n",
    "    \"mapState\": {\n",
    "      \"dragRotate\": True,\n",
    "      \"latitude\": 47.490000,\n",
    "      \"longitude\": 19.074436,\n",
    "      \"zoom\": 14,\n",
    "      \"isSplit\": False\n",
    "    },\n",
    "    \"mapStyle\": {\n",
    "      \"topLayerGroups\": {},\n",
    "      \"visibleLayerGroups\": {\n",
    "        \"label\": True,\n",
    "        \"road\": True,\n",
    "        \"border\": True,\n",
    "        \"building\": True,\n",
    "        \"water\": True,\n",
    "        \"land\": True\n",
    "      }\n",
    "    }\n",
    "  }\n",
    "}"
   ]
  },
  {
   "cell_type": "code",
   "execution_count": 7,
   "metadata": {
    "scrolled": true
   },
   "outputs": [
    {
     "name": "stdout",
     "output_type": "stream",
     "text": [
      "User Guide: https://docs.kepler.gl/docs/keplergl-jupyter\n"
     ]
    },
    {
     "data": {
      "application/vnd.jupyter.widget-view+json": {
       "model_id": "94378ed1cf10497a9dcd166f913b2452",
       "version_major": 2,
       "version_minor": 0
      },
      "text/plain": [
       "KeplerGl(config={'version': 'v1', 'config': {'visState': {'filters': [], 'layers': [], 'interactionConfig': {}…"
      ]
     },
     "metadata": {},
     "output_type": "display_data"
    }
   ],
   "source": [
    "from keplergl import KeplerGl\n",
    "map_1 = KeplerGl(height=800,config=config)\n",
    "map_1.add_data(data=df, name=\"point layer\")\n",
    "map_1"
   ]
  },
  {
   "cell_type": "code",
   "execution_count": 10,
   "metadata": {},
   "outputs": [
    {
     "name": "stdout",
     "output_type": "stream",
     "text": [
      "Map saved to ../vizs/kepler_test2.html!\n"
     ]
    }
   ],
   "source": [
    "map_1.save_to_html(file_name='../vizs/kepler_test2.html')"
   ]
  }
 ],
 "metadata": {
  "kernelspec": {
   "display_name": "Python 3 (ipykernel)",
   "language": "python",
   "name": "python3"
  },
  "language_info": {
   "codemirror_mode": {
    "name": "ipython",
    "version": 3
   },
   "file_extension": ".py",
   "mimetype": "text/x-python",
   "name": "python",
   "nbconvert_exporter": "python",
   "pygments_lexer": "ipython3",
   "version": "3.10.6"
  }
 },
 "nbformat": 4,
 "nbformat_minor": 1
}
